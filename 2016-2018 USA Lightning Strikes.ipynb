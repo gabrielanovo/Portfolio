{
 "cells": [
  {
   "cell_type": "markdown",
   "metadata": {
    "id": "69783gzunQEp"
   },
   "source": [
    "# 2016-2018 USA Lightning Strikes"
   ]
  },
  {
   "cell_type": "markdown",
   "metadata": {},
   "source": [
    "Written by: Gabriela Novo de Oliveira"
   ]
  },
  {
   "cell_type": "markdown",
   "metadata": {},
   "source": [
    "## 1. Overview\n",
    "\n",
    "In this notebook, I will work with 2016–2018 lightning strike data from the National Oceanic and Atmospheric Association (NOAA). \n",
    "\n",
    "To complete this notebook I will:\n",
    "\n",
    "* Calculate weekly sums of lightning strikes and plot them on a bar graph.\n",
    "* Calculate quarterly lightning strike totals and plot them on bar graphs.\n",
    "* Perform label encoding to assign the monthly number of strikes to the following categories: mild, scattered, heavy, or severe.\n",
    "* Create a heatmap of the three years so I can get a high-level understanding of monthly lightning severity from a simple diagram.   \n",
    "\n",
    "I will be using pandas for operations, and matplotlib and seaborn for plotting."
   ]
  },
  {
   "cell_type": "markdown",
   "metadata": {},
   "source": [
    "## 2. Importing packages, libraries and the data\n",
    "\n",
    "Importing all the required libraries and extensions."
   ]
  },
  {
   "cell_type": "code",
   "execution_count": 4,
   "metadata": {
    "id": "TiZxf5dvGcXB",
    "tags": []
   },
   "outputs": [],
   "source": [
    "# Import statements\n",
    "import matplotlib.pyplot as plt\n",
    "import pandas as pd\n",
    "import seaborn as sns"
   ]
  },
  {
   "cell_type": "code",
   "execution_count": 84,
   "metadata": {
    "tags": []
   },
   "outputs": [
    {
     "data": {
      "text/html": [
       "<div>\n",
       "<style scoped>\n",
       "    .dataframe tbody tr th:only-of-type {\n",
       "        vertical-align: middle;\n",
       "    }\n",
       "\n",
       "    .dataframe tbody tr th {\n",
       "        vertical-align: top;\n",
       "    }\n",
       "\n",
       "    .dataframe thead th {\n",
       "        text-align: right;\n",
       "    }\n",
       "</style>\n",
       "<table border=\"1\" class=\"dataframe\">\n",
       "  <thead>\n",
       "    <tr style=\"text-align: right;\">\n",
       "      <th></th>\n",
       "      <th>date</th>\n",
       "      <th>number_of_strikes</th>\n",
       "      <th>center_point_geom</th>\n",
       "    </tr>\n",
       "  </thead>\n",
       "  <tbody>\n",
       "    <tr>\n",
       "      <th>0</th>\n",
       "      <td>2016-08-05</td>\n",
       "      <td>16</td>\n",
       "      <td>POINT(-101.5 24.7)</td>\n",
       "    </tr>\n",
       "    <tr>\n",
       "      <th>1</th>\n",
       "      <td>2016-08-05</td>\n",
       "      <td>16</td>\n",
       "      <td>POINT(-85 34.3)</td>\n",
       "    </tr>\n",
       "    <tr>\n",
       "      <th>2</th>\n",
       "      <td>2016-08-05</td>\n",
       "      <td>16</td>\n",
       "      <td>POINT(-89 41.4)</td>\n",
       "    </tr>\n",
       "    <tr>\n",
       "      <th>3</th>\n",
       "      <td>2016-08-05</td>\n",
       "      <td>16</td>\n",
       "      <td>POINT(-89.8 30.7)</td>\n",
       "    </tr>\n",
       "    <tr>\n",
       "      <th>4</th>\n",
       "      <td>2016-08-05</td>\n",
       "      <td>16</td>\n",
       "      <td>POINT(-86.2 37.9)</td>\n",
       "    </tr>\n",
       "  </tbody>\n",
       "</table>\n",
       "</div>"
      ],
      "text/plain": [
       "         date  number_of_strikes   center_point_geom\n",
       "0  2016-08-05                 16  POINT(-101.5 24.7)\n",
       "1  2016-08-05                 16     POINT(-85 34.3)\n",
       "2  2016-08-05                 16     POINT(-89 41.4)\n",
       "3  2016-08-05                 16   POINT(-89.8 30.7)\n",
       "4  2016-08-05                 16   POINT(-86.2 37.9)"
      ]
     },
     "execution_count": 84,
     "metadata": {},
     "output_type": "execute_result"
    }
   ],
   "source": [
    "# Reading the 2016–2017 data\n",
    "df = pd.read_csv('2016_2017_usa_lightning_data.csv') \n",
    "df.head()"
   ]
  },
  {
   "cell_type": "code",
   "execution_count": 85,
   "metadata": {
    "tags": []
   },
   "outputs": [
    {
     "data": {
      "text/html": [
       "<div>\n",
       "<style scoped>\n",
       "    .dataframe tbody tr th:only-of-type {\n",
       "        vertical-align: middle;\n",
       "    }\n",
       "\n",
       "    .dataframe tbody tr th {\n",
       "        vertical-align: top;\n",
       "    }\n",
       "\n",
       "    .dataframe thead th {\n",
       "        text-align: right;\n",
       "    }\n",
       "</style>\n",
       "<table border=\"1\" class=\"dataframe\">\n",
       "  <thead>\n",
       "    <tr style=\"text-align: right;\">\n",
       "      <th></th>\n",
       "      <th>date</th>\n",
       "      <th>number_of_strikes</th>\n",
       "      <th>center_point_geom</th>\n",
       "    </tr>\n",
       "  </thead>\n",
       "  <tbody>\n",
       "    <tr>\n",
       "      <th>0</th>\n",
       "      <td>2018-01-03</td>\n",
       "      <td>194</td>\n",
       "      <td>POINT(-75 27)</td>\n",
       "    </tr>\n",
       "    <tr>\n",
       "      <th>1</th>\n",
       "      <td>2018-01-03</td>\n",
       "      <td>41</td>\n",
       "      <td>POINT(-78.4 29)</td>\n",
       "    </tr>\n",
       "    <tr>\n",
       "      <th>2</th>\n",
       "      <td>2018-01-03</td>\n",
       "      <td>33</td>\n",
       "      <td>POINT(-73.9 27)</td>\n",
       "    </tr>\n",
       "    <tr>\n",
       "      <th>3</th>\n",
       "      <td>2018-01-03</td>\n",
       "      <td>38</td>\n",
       "      <td>POINT(-73.8 27)</td>\n",
       "    </tr>\n",
       "    <tr>\n",
       "      <th>4</th>\n",
       "      <td>2018-01-03</td>\n",
       "      <td>92</td>\n",
       "      <td>POINT(-79 28)</td>\n",
       "    </tr>\n",
       "  </tbody>\n",
       "</table>\n",
       "</div>"
      ],
      "text/plain": [
       "         date  number_of_strikes center_point_geom\n",
       "0  2018-01-03                194     POINT(-75 27)\n",
       "1  2018-01-03                 41   POINT(-78.4 29)\n",
       "2  2018-01-03                 33   POINT(-73.9 27)\n",
       "3  2018-01-03                 38   POINT(-73.8 27)\n",
       "4  2018-01-03                 92     POINT(-79 28)"
      ]
     },
     "execution_count": 85,
     "metadata": {},
     "output_type": "execute_result"
    }
   ],
   "source": [
    "# Reading the 2018 lightning strike dataset.\n",
    "df_2 = pd.read_csv('2018_usa_lightning_data.csv')\n",
    "df_2.head()"
   ]
  },
  {
   "cell_type": "markdown",
   "metadata": {
    "tags": []
   },
   "source": [
    "## 3. Data Analysis"
   ]
  },
  {
   "cell_type": "markdown",
   "metadata": {},
   "source": [
    "### 3.1. Converting date column to datetime"
   ]
  },
  {
   "cell_type": "code",
   "execution_count": 86,
   "metadata": {
    "tags": []
   },
   "outputs": [],
   "source": [
    "df['date']= pd.to_datetime(df['date'])\n",
    "df_2['date']= pd.to_datetime(df_2['date'])"
   ]
  },
  {
   "cell_type": "markdown",
   "metadata": {},
   "source": [
    "### 3.2. Creating a new dataframe combining 2016–2017 data with 2018 data"
   ]
  },
  {
   "cell_type": "code",
   "execution_count": 87,
   "metadata": {
    "tags": []
   },
   "outputs": [
    {
     "data": {
      "text/html": [
       "<div>\n",
       "<style scoped>\n",
       "    .dataframe tbody tr th:only-of-type {\n",
       "        vertical-align: middle;\n",
       "    }\n",
       "\n",
       "    .dataframe tbody tr th {\n",
       "        vertical-align: top;\n",
       "    }\n",
       "\n",
       "    .dataframe thead th {\n",
       "        text-align: right;\n",
       "    }\n",
       "</style>\n",
       "<table border=\"1\" class=\"dataframe\">\n",
       "  <thead>\n",
       "    <tr style=\"text-align: right;\">\n",
       "      <th></th>\n",
       "      <th>date</th>\n",
       "      <th>number_of_strikes</th>\n",
       "      <th>center_point_geom</th>\n",
       "    </tr>\n",
       "  </thead>\n",
       "  <tbody>\n",
       "    <tr>\n",
       "      <th>0</th>\n",
       "      <td>2016-08-05</td>\n",
       "      <td>16</td>\n",
       "      <td>POINT(-101.5 24.7)</td>\n",
       "    </tr>\n",
       "    <tr>\n",
       "      <th>1</th>\n",
       "      <td>2016-08-05</td>\n",
       "      <td>16</td>\n",
       "      <td>POINT(-85 34.3)</td>\n",
       "    </tr>\n",
       "    <tr>\n",
       "      <th>2</th>\n",
       "      <td>2016-08-05</td>\n",
       "      <td>16</td>\n",
       "      <td>POINT(-89 41.4)</td>\n",
       "    </tr>\n",
       "    <tr>\n",
       "      <th>3</th>\n",
       "      <td>2016-08-05</td>\n",
       "      <td>16</td>\n",
       "      <td>POINT(-89.8 30.7)</td>\n",
       "    </tr>\n",
       "    <tr>\n",
       "      <th>4</th>\n",
       "      <td>2016-08-05</td>\n",
       "      <td>16</td>\n",
       "      <td>POINT(-86.2 37.9)</td>\n",
       "    </tr>\n",
       "  </tbody>\n",
       "</table>\n",
       "</div>"
      ],
      "text/plain": [
       "        date  number_of_strikes   center_point_geom\n",
       "0 2016-08-05                 16  POINT(-101.5 24.7)\n",
       "1 2016-08-05                 16     POINT(-85 34.3)\n",
       "2 2016-08-05                 16     POINT(-89 41.4)\n",
       "3 2016-08-05                 16   POINT(-89.8 30.7)\n",
       "4 2016-08-05                 16   POINT(-86.2 37.9)"
      ]
     },
     "execution_count": 87,
     "metadata": {},
     "output_type": "execute_result"
    }
   ],
   "source": [
    "union_df = pd.concat([df, df_2], ignore_index=True)\n",
    "union_df.head()"
   ]
  },
  {
   "cell_type": "code",
   "execution_count": 75,
   "metadata": {
    "tags": []
   },
   "outputs": [
    {
     "data": {
      "text/html": [
       "<div>\n",
       "<style scoped>\n",
       "    .dataframe tbody tr th:only-of-type {\n",
       "        vertical-align: middle;\n",
       "    }\n",
       "\n",
       "    .dataframe tbody tr th {\n",
       "        vertical-align: top;\n",
       "    }\n",
       "\n",
       "    .dataframe thead th {\n",
       "        text-align: right;\n",
       "    }\n",
       "</style>\n",
       "<table border=\"1\" class=\"dataframe\">\n",
       "  <thead>\n",
       "    <tr style=\"text-align: right;\">\n",
       "      <th></th>\n",
       "      <th>date</th>\n",
       "      <th>number_of_strikes</th>\n",
       "      <th>center_point_geom</th>\n",
       "      <th>year</th>\n",
       "      <th>month</th>\n",
       "      <th>month_txt</th>\n",
       "    </tr>\n",
       "  </thead>\n",
       "  <tbody>\n",
       "    <tr>\n",
       "      <th>0</th>\n",
       "      <td>2016-08-05</td>\n",
       "      <td>16</td>\n",
       "      <td>POINT(-101.5 24.7)</td>\n",
       "      <td>2016</td>\n",
       "      <td>8</td>\n",
       "      <td>August</td>\n",
       "    </tr>\n",
       "    <tr>\n",
       "      <th>1</th>\n",
       "      <td>2016-08-05</td>\n",
       "      <td>16</td>\n",
       "      <td>POINT(-85 34.3)</td>\n",
       "      <td>2016</td>\n",
       "      <td>8</td>\n",
       "      <td>August</td>\n",
       "    </tr>\n",
       "    <tr>\n",
       "      <th>2</th>\n",
       "      <td>2016-08-05</td>\n",
       "      <td>16</td>\n",
       "      <td>POINT(-89 41.4)</td>\n",
       "      <td>2016</td>\n",
       "      <td>8</td>\n",
       "      <td>August</td>\n",
       "    </tr>\n",
       "    <tr>\n",
       "      <th>3</th>\n",
       "      <td>2016-08-05</td>\n",
       "      <td>16</td>\n",
       "      <td>POINT(-89.8 30.7)</td>\n",
       "      <td>2016</td>\n",
       "      <td>8</td>\n",
       "      <td>August</td>\n",
       "    </tr>\n",
       "    <tr>\n",
       "      <th>4</th>\n",
       "      <td>2016-08-05</td>\n",
       "      <td>16</td>\n",
       "      <td>POINT(-86.2 37.9)</td>\n",
       "      <td>2016</td>\n",
       "      <td>8</td>\n",
       "      <td>August</td>\n",
       "    </tr>\n",
       "  </tbody>\n",
       "</table>\n",
       "</div>"
      ],
      "text/plain": [
       "        date  number_of_strikes   center_point_geom  year  month month_txt\n",
       "0 2016-08-05                 16  POINT(-101.5 24.7)  2016      8    August\n",
       "1 2016-08-05                 16     POINT(-85 34.3)  2016      8    August\n",
       "2 2016-08-05                 16     POINT(-89 41.4)  2016      8    August\n",
       "3 2016-08-05                 16   POINT(-89.8 30.7)  2016      8    August\n",
       "4 2016-08-05                 16   POINT(-86.2 37.9)  2016      8    August"
      ]
     },
     "execution_count": 75,
     "metadata": {},
     "output_type": "execute_result"
    }
   ],
   "source": [
    "# Add 3 new columns.\n",
    "union_df['year'] = union_df.date.dt.year\n",
    "union_df['month'] = union_df.date.dt.month\n",
    "union_df['month_txt'] = union_df.date.dt.month_name()\n",
    "union_df.head()"
   ]
  },
  {
   "cell_type": "markdown",
   "metadata": {},
   "source": [
    "### 3.3. Calculating number of strikes per year"
   ]
  },
  {
   "cell_type": "code",
   "execution_count": 29,
   "metadata": {
    "tags": []
   },
   "outputs": [
    {
     "data": {
      "text/html": [
       "<div>\n",
       "<style scoped>\n",
       "    .dataframe tbody tr th:only-of-type {\n",
       "        vertical-align: middle;\n",
       "    }\n",
       "\n",
       "    .dataframe tbody tr th {\n",
       "        vertical-align: top;\n",
       "    }\n",
       "\n",
       "    .dataframe thead th {\n",
       "        text-align: right;\n",
       "    }\n",
       "</style>\n",
       "<table border=\"1\" class=\"dataframe\">\n",
       "  <thead>\n",
       "    <tr style=\"text-align: right;\">\n",
       "      <th></th>\n",
       "      <th>year</th>\n",
       "      <th>year_strikes</th>\n",
       "    </tr>\n",
       "  </thead>\n",
       "  <tbody>\n",
       "    <tr>\n",
       "      <th>0</th>\n",
       "      <td>2016</td>\n",
       "      <td>41582229</td>\n",
       "    </tr>\n",
       "    <tr>\n",
       "      <th>1</th>\n",
       "      <td>2017</td>\n",
       "      <td>35095195</td>\n",
       "    </tr>\n",
       "    <tr>\n",
       "      <th>2</th>\n",
       "      <td>2018</td>\n",
       "      <td>89201978</td>\n",
       "    </tr>\n",
       "  </tbody>\n",
       "</table>\n",
       "</div>"
      ],
      "text/plain": [
       "   year  year_strikes\n",
       "0  2016      41582229\n",
       "1  2017      35095195\n",
       "2  2018      89201978"
      ]
     },
     "execution_count": 29,
     "metadata": {},
     "output_type": "execute_result"
    }
   ],
   "source": [
    "lightning_by_year = union_df.groupby(['year']).agg(\n",
    "    year_strikes = pd.NamedAgg(column='number_of_strikes',aggfunc=sum)\n",
    "    ).reset_index()\n",
    "\n",
    "lightning_by_year.head()"
   ]
  },
  {
   "cell_type": "markdown",
   "metadata": {},
   "source": [
    "### 3.3. Calculating number of strikes for each month of each year"
   ]
  },
  {
   "cell_type": "markdown",
   "metadata": {},
   "source": [
    "Now I will calculate the percentage of total lightning strikes that occurred in a given month for each year and assign the results to a new dataframe called `lightning_by_month`. "
   ]
  },
  {
   "cell_type": "code",
   "execution_count": 30,
   "metadata": {
    "tags": []
   },
   "outputs": [
    {
     "data": {
      "text/html": [
       "<div>\n",
       "<style scoped>\n",
       "    .dataframe tbody tr th:only-of-type {\n",
       "        vertical-align: middle;\n",
       "    }\n",
       "\n",
       "    .dataframe tbody tr th {\n",
       "        vertical-align: top;\n",
       "    }\n",
       "\n",
       "    .dataframe thead th {\n",
       "        text-align: right;\n",
       "    }\n",
       "</style>\n",
       "<table border=\"1\" class=\"dataframe\">\n",
       "  <thead>\n",
       "    <tr style=\"text-align: right;\">\n",
       "      <th></th>\n",
       "      <th>month_txt</th>\n",
       "      <th>year</th>\n",
       "      <th>number_of_strikes</th>\n",
       "    </tr>\n",
       "  </thead>\n",
       "  <tbody>\n",
       "    <tr>\n",
       "      <th>0</th>\n",
       "      <td>April</td>\n",
       "      <td>2016</td>\n",
       "      <td>2636427</td>\n",
       "    </tr>\n",
       "    <tr>\n",
       "      <th>1</th>\n",
       "      <td>April</td>\n",
       "      <td>2017</td>\n",
       "      <td>3819075</td>\n",
       "    </tr>\n",
       "    <tr>\n",
       "      <th>2</th>\n",
       "      <td>April</td>\n",
       "      <td>2018</td>\n",
       "      <td>3048678</td>\n",
       "    </tr>\n",
       "    <tr>\n",
       "      <th>3</th>\n",
       "      <td>August</td>\n",
       "      <td>2016</td>\n",
       "      <td>7250442</td>\n",
       "    </tr>\n",
       "    <tr>\n",
       "      <th>4</th>\n",
       "      <td>August</td>\n",
       "      <td>2017</td>\n",
       "      <td>6021702</td>\n",
       "    </tr>\n",
       "  </tbody>\n",
       "</table>\n",
       "</div>"
      ],
      "text/plain": [
       "  month_txt  year  number_of_strikes\n",
       "0     April  2016            2636427\n",
       "1     April  2017            3819075\n",
       "2     April  2018            3048678\n",
       "3    August  2016            7250442\n",
       "4    August  2017            6021702"
      ]
     },
     "execution_count": 30,
     "metadata": {},
     "output_type": "execute_result"
    }
   ],
   "source": [
    "lightning_by_month = union_df.groupby(['month_txt','year']).agg(\n",
    "    number_of_strikes = pd.NamedAgg(column='number_of_strikes',aggfunc=sum)\n",
    "    ).reset_index()\n",
    "\n",
    "lightning_by_month.head()"
   ]
  },
  {
   "cell_type": "markdown",
   "metadata": {},
   "source": [
    "In the bar plot, I need to use the monthly totals to calculate percentages. For each month, I will need the monthly total strike count and the total strike count for that year. \n",
    "\n",
    "I will create another dataframe called `percentage_lightning` that adds a new column called `year_strikes` which represents the total number of strikes for each year. I can do this using the `merge()` function. We will merge the `lightning_by_month` dataframe with the `lightning_by_year` dataframe, specifying to merge on the `year` column. This means that wherever the `year` columns contain the same value in both dataframes, a row is created in our new dataframe with all the other columns from both dataframes being merged. References: https://pandas.pydata.org/docs/reference/api/pandas.merge.html.\n"
   ]
  },
  {
   "cell_type": "code",
   "execution_count": 31,
   "metadata": {
    "tags": []
   },
   "outputs": [
    {
     "data": {
      "text/html": [
       "<div>\n",
       "<style scoped>\n",
       "    .dataframe tbody tr th:only-of-type {\n",
       "        vertical-align: middle;\n",
       "    }\n",
       "\n",
       "    .dataframe tbody tr th {\n",
       "        vertical-align: top;\n",
       "    }\n",
       "\n",
       "    .dataframe thead th {\n",
       "        text-align: right;\n",
       "    }\n",
       "</style>\n",
       "<table border=\"1\" class=\"dataframe\">\n",
       "  <thead>\n",
       "    <tr style=\"text-align: right;\">\n",
       "      <th></th>\n",
       "      <th>month_txt</th>\n",
       "      <th>year</th>\n",
       "      <th>number_of_strikes</th>\n",
       "      <th>year_strikes</th>\n",
       "    </tr>\n",
       "  </thead>\n",
       "  <tbody>\n",
       "    <tr>\n",
       "      <th>0</th>\n",
       "      <td>April</td>\n",
       "      <td>2016</td>\n",
       "      <td>2636427</td>\n",
       "      <td>41582229</td>\n",
       "    </tr>\n",
       "    <tr>\n",
       "      <th>1</th>\n",
       "      <td>August</td>\n",
       "      <td>2016</td>\n",
       "      <td>7250442</td>\n",
       "      <td>41582229</td>\n",
       "    </tr>\n",
       "    <tr>\n",
       "      <th>2</th>\n",
       "      <td>December</td>\n",
       "      <td>2016</td>\n",
       "      <td>316450</td>\n",
       "      <td>41582229</td>\n",
       "    </tr>\n",
       "    <tr>\n",
       "      <th>3</th>\n",
       "      <td>February</td>\n",
       "      <td>2016</td>\n",
       "      <td>312676</td>\n",
       "      <td>41582229</td>\n",
       "    </tr>\n",
       "    <tr>\n",
       "      <th>4</th>\n",
       "      <td>January</td>\n",
       "      <td>2016</td>\n",
       "      <td>313595</td>\n",
       "      <td>41582229</td>\n",
       "    </tr>\n",
       "  </tbody>\n",
       "</table>\n",
       "</div>"
      ],
      "text/plain": [
       "  month_txt  year  number_of_strikes  year_strikes\n",
       "0     April  2016            2636427      41582229\n",
       "1    August  2016            7250442      41582229\n",
       "2  December  2016             316450      41582229\n",
       "3  February  2016             312676      41582229\n",
       "4   January  2016             313595      41582229"
      ]
     },
     "execution_count": 31,
     "metadata": {},
     "output_type": "execute_result"
    }
   ],
   "source": [
    "# Combine `lightning_by_month` and `lightning_by_year` dataframes into single dataframe.\n",
    "percentage_lightning = lightning_by_month.merge(lightning_by_year,on='year')\n",
    "percentage_lightning.head()"
   ]
  },
  {
   "cell_type": "markdown",
   "metadata": {},
   "source": [
    "### 3.4. Calculating percentage of total lightning strikes that occurred during each month for each year"
   ]
  },
  {
   "cell_type": "markdown",
   "metadata": {},
   "source": [
    "Now I will create a new column in our new dataframe that represents the percentage of total lightning strikes that occurred during each month for each year. I will do this by dividing the `number_of_strikes` column by the `year_strikes` column and multiplying the result by 100."
   ]
  },
  {
   "cell_type": "code",
   "execution_count": 32,
   "metadata": {
    "tags": []
   },
   "outputs": [
    {
     "data": {
      "text/html": [
       "<div>\n",
       "<style scoped>\n",
       "    .dataframe tbody tr th:only-of-type {\n",
       "        vertical-align: middle;\n",
       "    }\n",
       "\n",
       "    .dataframe tbody tr th {\n",
       "        vertical-align: top;\n",
       "    }\n",
       "\n",
       "    .dataframe thead th {\n",
       "        text-align: right;\n",
       "    }\n",
       "</style>\n",
       "<table border=\"1\" class=\"dataframe\">\n",
       "  <thead>\n",
       "    <tr style=\"text-align: right;\">\n",
       "      <th></th>\n",
       "      <th>month_txt</th>\n",
       "      <th>year</th>\n",
       "      <th>number_of_strikes</th>\n",
       "      <th>year_strikes</th>\n",
       "      <th>percentage_lightning_per_month</th>\n",
       "    </tr>\n",
       "  </thead>\n",
       "  <tbody>\n",
       "    <tr>\n",
       "      <th>0</th>\n",
       "      <td>April</td>\n",
       "      <td>2016</td>\n",
       "      <td>2636427</td>\n",
       "      <td>41582229</td>\n",
       "      <td>6.340273</td>\n",
       "    </tr>\n",
       "    <tr>\n",
       "      <th>1</th>\n",
       "      <td>August</td>\n",
       "      <td>2016</td>\n",
       "      <td>7250442</td>\n",
       "      <td>41582229</td>\n",
       "      <td>17.436396</td>\n",
       "    </tr>\n",
       "    <tr>\n",
       "      <th>2</th>\n",
       "      <td>December</td>\n",
       "      <td>2016</td>\n",
       "      <td>316450</td>\n",
       "      <td>41582229</td>\n",
       "      <td>0.761022</td>\n",
       "    </tr>\n",
       "    <tr>\n",
       "      <th>3</th>\n",
       "      <td>February</td>\n",
       "      <td>2016</td>\n",
       "      <td>312676</td>\n",
       "      <td>41582229</td>\n",
       "      <td>0.751946</td>\n",
       "    </tr>\n",
       "    <tr>\n",
       "      <th>4</th>\n",
       "      <td>January</td>\n",
       "      <td>2016</td>\n",
       "      <td>313595</td>\n",
       "      <td>41582229</td>\n",
       "      <td>0.754156</td>\n",
       "    </tr>\n",
       "  </tbody>\n",
       "</table>\n",
       "</div>"
      ],
      "text/plain": [
       "  month_txt  year  number_of_strikes  year_strikes  \\\n",
       "0     April  2016            2636427      41582229   \n",
       "1    August  2016            7250442      41582229   \n",
       "2  December  2016             316450      41582229   \n",
       "3  February  2016             312676      41582229   \n",
       "4   January  2016             313595      41582229   \n",
       "\n",
       "   percentage_lightning_per_month  \n",
       "0                        6.340273  \n",
       "1                       17.436396  \n",
       "2                        0.761022  \n",
       "3                        0.751946  \n",
       "4                        0.754156  "
      ]
     },
     "execution_count": 32,
     "metadata": {},
     "output_type": "execute_result"
    }
   ],
   "source": [
    "# Create new `percentage_lightning_per_month` column.\n",
    "percentage_lightning['percentage_lightning_per_month'] = (percentage_lightning.number_of_strikes/\n",
    "                                                          percentage_lightning.year_strikes * 100.0)\n",
    "percentage_lightning.head()"
   ]
  },
  {
   "cell_type": "markdown",
   "metadata": {
    "tags": []
   },
   "source": [
    "### 3.5. Plotting the percentages by month in a graph"
   ]
  },
  {
   "cell_type": "code",
   "execution_count": 34,
   "metadata": {
    "tags": []
   },
   "outputs": [
    {
     "data": {
      "image/png": "[encoded data removed]",
      "text/plain": [
       "<Figure size 1000x600 with 1 Axes>"
      ]
     },
     "metadata": {},
     "output_type": "display_data"
    }
   ],
   "source": [
    "# Plotting the percentages by month in a graph\n",
    "plt.figure(figsize=(10,6));\n",
    "\n",
    "month_order = ['January', 'February', 'March', 'April', 'May', 'June', \n",
    "               'July', 'August', 'September', 'October', 'November', 'December']\n",
    "\n",
    "sns.barplot(\n",
    "    data = percentage_lightning,\n",
    "    x = 'month_txt',\n",
    "    y = 'percentage_lightning_per_month',\n",
    "    hue = 'year',\n",
    "    order = month_order );\n",
    "plt.xlabel(\"Month\");\n",
    "plt.ylabel(\"% of lightning strikes\");\n",
    "plt.title(\"% of lightning strikes each Month (2016-2018)\");"
   ]
  },
  {
   "cell_type": "markdown",
   "metadata": {
    "tags": []
   },
   "source": [
    "For all three years, there is a clear pattern over the course of each year. One month stands out: August. More than one third of the lightning strikes in 2018 happened in August. "
   ]
  },
  {
   "cell_type": "markdown",
   "metadata": {
    "id": "iiVSolnEm6A5"
   },
   "source": [
    "### 3.6. Creating new time columns"
   ]
  },
  {
   "cell_type": "markdown",
   "metadata": {
    "id": "hKWRq_huIvEE"
   },
   "source": [
    "The `date` column data type is a string object, which limits what can be done with the data in this column. Converting the column to datetime will facilitate work with this data.  "
   ]
  },
  {
   "cell_type": "code",
   "execution_count": 42,
   "metadata": {
    "id": "3Mkui6ErGNdw",
    "tags": []
   },
   "outputs": [],
   "source": [
    "# Converting the `date` column to datetime.\n",
    "df['date'] = pd.to_datetime(df['date'])"
   ]
  },
  {
   "cell_type": "markdown",
   "metadata": {},
   "source": [
    "Next, I will create four new columns: `week`, `month`, `quarter`, and `year`. I can do this by using the `datetime.strftime()` method of the datetime object. `strftime` is short for \"string format time.\" I will use this method on the datetime data in the `week` column, and it will extract the information I specify, formatted as a string. \n",
    "\n",
    "To specify the information to extract, I will use strftime format codes. In this case, I will use `%Y` for year, `%V` for week number, `%q` for quarter."
   ]
  },
  {
   "cell_type": "code",
   "execution_count": 43,
   "metadata": {
    "id": "zdJrDykiBlt2",
    "tags": []
   },
   "outputs": [],
   "source": [
    "# Create four new columns.\n",
    "df['week'] = df['date'].dt.strftime('%Y-W%V')\n",
    "df['month'] = df['date'].dt.strftime('%Y-%m')\n",
    "df['quarter'] = df['date'].dt.to_period('Q').dt.strftime('%Y-Q%q')\n",
    "df['year'] = df['date'].dt.strftime('%Y')"
   ]
  },
  {
   "cell_type": "markdown",
   "metadata": {
    "id": "i6zkE-8mFJF0"
   },
   "source": [
    "Using `head()` to check that the columns were created as intended."
   ]
  },
  {
   "cell_type": "code",
   "execution_count": 44,
   "metadata": {
    "colab": {
     "base_uri": "https://localhost:8080/",
     "height": 363
    },
    "id": "33mC6vcg-_5W",
    "outputId": "2060fc81-9764-4bd6-9407-51960329e657",
    "tags": []
   },
   "outputs": [
    {
     "data": {
      "text/html": [
       "<div>\n",
       "<style scoped>\n",
       "    .dataframe tbody tr th:only-of-type {\n",
       "        vertical-align: middle;\n",
       "    }\n",
       "\n",
       "    .dataframe tbody tr th {\n",
       "        vertical-align: top;\n",
       "    }\n",
       "\n",
       "    .dataframe thead th {\n",
       "        text-align: right;\n",
       "    }\n",
       "</style>\n",
       "<table border=\"1\" class=\"dataframe\">\n",
       "  <thead>\n",
       "    <tr style=\"text-align: right;\">\n",
       "      <th></th>\n",
       "      <th>date</th>\n",
       "      <th>number_of_strikes</th>\n",
       "      <th>center_point_geom</th>\n",
       "      <th>week</th>\n",
       "      <th>month</th>\n",
       "      <th>quarter</th>\n",
       "      <th>year</th>\n",
       "    </tr>\n",
       "  </thead>\n",
       "  <tbody>\n",
       "    <tr>\n",
       "      <th>0</th>\n",
       "      <td>2016-08-05</td>\n",
       "      <td>16</td>\n",
       "      <td>POINT(-101.5 24.7)</td>\n",
       "      <td>2016-W31</td>\n",
       "      <td>2016-08</td>\n",
       "      <td>2016-Q3</td>\n",
       "      <td>2016</td>\n",
       "    </tr>\n",
       "    <tr>\n",
       "      <th>1</th>\n",
       "      <td>2016-08-05</td>\n",
       "      <td>16</td>\n",
       "      <td>POINT(-85 34.3)</td>\n",
       "      <td>2016-W31</td>\n",
       "      <td>2016-08</td>\n",
       "      <td>2016-Q3</td>\n",
       "      <td>2016</td>\n",
       "    </tr>\n",
       "    <tr>\n",
       "      <th>2</th>\n",
       "      <td>2016-08-05</td>\n",
       "      <td>16</td>\n",
       "      <td>POINT(-89 41.4)</td>\n",
       "      <td>2016-W31</td>\n",
       "      <td>2016-08</td>\n",
       "      <td>2016-Q3</td>\n",
       "      <td>2016</td>\n",
       "    </tr>\n",
       "    <tr>\n",
       "      <th>3</th>\n",
       "      <td>2016-08-05</td>\n",
       "      <td>16</td>\n",
       "      <td>POINT(-89.8 30.7)</td>\n",
       "      <td>2016-W31</td>\n",
       "      <td>2016-08</td>\n",
       "      <td>2016-Q3</td>\n",
       "      <td>2016</td>\n",
       "    </tr>\n",
       "    <tr>\n",
       "      <th>4</th>\n",
       "      <td>2016-08-05</td>\n",
       "      <td>16</td>\n",
       "      <td>POINT(-86.2 37.9)</td>\n",
       "      <td>2016-W31</td>\n",
       "      <td>2016-08</td>\n",
       "      <td>2016-Q3</td>\n",
       "      <td>2016</td>\n",
       "    </tr>\n",
       "    <tr>\n",
       "      <th>5</th>\n",
       "      <td>2016-08-05</td>\n",
       "      <td>16</td>\n",
       "      <td>POINT(-97.8 38.9)</td>\n",
       "      <td>2016-W31</td>\n",
       "      <td>2016-08</td>\n",
       "      <td>2016-Q3</td>\n",
       "      <td>2016</td>\n",
       "    </tr>\n",
       "    <tr>\n",
       "      <th>6</th>\n",
       "      <td>2016-08-05</td>\n",
       "      <td>16</td>\n",
       "      <td>POINT(-81.9 36)</td>\n",
       "      <td>2016-W31</td>\n",
       "      <td>2016-08</td>\n",
       "      <td>2016-Q3</td>\n",
       "      <td>2016</td>\n",
       "    </tr>\n",
       "    <tr>\n",
       "      <th>7</th>\n",
       "      <td>2016-08-05</td>\n",
       "      <td>16</td>\n",
       "      <td>POINT(-90.9 36.7)</td>\n",
       "      <td>2016-W31</td>\n",
       "      <td>2016-08</td>\n",
       "      <td>2016-Q3</td>\n",
       "      <td>2016</td>\n",
       "    </tr>\n",
       "    <tr>\n",
       "      <th>8</th>\n",
       "      <td>2016-08-05</td>\n",
       "      <td>16</td>\n",
       "      <td>POINT(-106.6 26.1)</td>\n",
       "      <td>2016-W31</td>\n",
       "      <td>2016-08</td>\n",
       "      <td>2016-Q3</td>\n",
       "      <td>2016</td>\n",
       "    </tr>\n",
       "    <tr>\n",
       "      <th>9</th>\n",
       "      <td>2016-08-05</td>\n",
       "      <td>16</td>\n",
       "      <td>POINT(-108 31.6)</td>\n",
       "      <td>2016-W31</td>\n",
       "      <td>2016-08</td>\n",
       "      <td>2016-Q3</td>\n",
       "      <td>2016</td>\n",
       "    </tr>\n",
       "  </tbody>\n",
       "</table>\n",
       "</div>"
      ],
      "text/plain": [
       "        date  number_of_strikes   center_point_geom      week    month  \\\n",
       "0 2016-08-05                 16  POINT(-101.5 24.7)  2016-W31  2016-08   \n",
       "1 2016-08-05                 16     POINT(-85 34.3)  2016-W31  2016-08   \n",
       "2 2016-08-05                 16     POINT(-89 41.4)  2016-W31  2016-08   \n",
       "3 2016-08-05                 16   POINT(-89.8 30.7)  2016-W31  2016-08   \n",
       "4 2016-08-05                 16   POINT(-86.2 37.9)  2016-W31  2016-08   \n",
       "5 2016-08-05                 16   POINT(-97.8 38.9)  2016-W31  2016-08   \n",
       "6 2016-08-05                 16     POINT(-81.9 36)  2016-W31  2016-08   \n",
       "7 2016-08-05                 16   POINT(-90.9 36.7)  2016-W31  2016-08   \n",
       "8 2016-08-05                 16  POINT(-106.6 26.1)  2016-W31  2016-08   \n",
       "9 2016-08-05                 16    POINT(-108 31.6)  2016-W31  2016-08   \n",
       "\n",
       "   quarter  year  \n",
       "0  2016-Q3  2016  \n",
       "1  2016-Q3  2016  \n",
       "2  2016-Q3  2016  \n",
       "3  2016-Q3  2016  \n",
       "4  2016-Q3  2016  \n",
       "5  2016-Q3  2016  \n",
       "6  2016-Q3  2016  \n",
       "7  2016-Q3  2016  \n",
       "8  2016-Q3  2016  \n",
       "9  2016-Q3  2016  "
      ]
     },
     "execution_count": 44,
     "metadata": {},
     "output_type": "execute_result"
    }
   ],
   "source": [
    "df.head(10)"
   ]
  },
  {
   "cell_type": "markdown",
   "metadata": {},
   "source": [
    "### 3.7. Plotting the number of quarterly lightning strikes from 2016–2018"
   ]
  },
  {
   "cell_type": "markdown",
   "metadata": {
    "id": "w4DYsd7HFJF6"
   },
   "source": [
    "Next, I will plot lightning strikes by quarter for the full date range of available data. For a visualization, it will be easiest to work with numbers in millions, such as 25.2 million. The following code will divide the `number_of_strikes` column by one million."
   ]
  },
  {
   "cell_type": "code",
   "execution_count": 45,
   "metadata": {
    "colab": {
     "base_uri": "https://localhost:8080/"
    },
    "id": "TczH3W_DsVF9",
    "outputId": "e0e4e8e5-d419-42e1-a31b-c5bb0f5a3966",
    "tags": []
   },
   "outputs": [
    {
     "data": {
      "text/plain": [
       "0    0.000016\n",
       "1    0.000016\n",
       "2    0.000016\n",
       "3    0.000016\n",
       "4    0.000016\n",
       "Name: number_of_strikes, dtype: float64"
      ]
     },
     "execution_count": 45,
     "metadata": {},
     "output_type": "execute_result"
    }
   ],
   "source": [
    "df_by_quarter = df['number_of_strikes'].div(1000000)\n",
    "df_by_quarter.head()"
   ]
  },
  {
   "cell_type": "markdown",
   "metadata": {},
   "source": [
    "### 3.8. Formatting the numbers"
   ]
  },
  {
   "cell_type": "markdown",
   "metadata": {},
   "source": [
    "This alone does not help much, because it just moved the decimal to the left. I will need to format the numbers as well.  I'll begin by grouping the data by quarter and summing.\n",
    "\n",
    "Then, I will create a `number_of_strikes_formatted` column in the resulting dataframe by dividing by one million but also rounding to one digit after the decimal point, converting it to a string, and adding \"M\" to the end to represent millions."
   ]
  },
  {
   "cell_type": "code",
   "execution_count": 46,
   "metadata": {
    "id": "v8yYcby_FJF9",
    "tags": []
   },
   "outputs": [
    {
     "data": {
      "text/html": [
       "<div>\n",
       "<style scoped>\n",
       "    .dataframe tbody tr th:only-of-type {\n",
       "        vertical-align: middle;\n",
       "    }\n",
       "\n",
       "    .dataframe tbody tr th {\n",
       "        vertical-align: top;\n",
       "    }\n",
       "\n",
       "    .dataframe thead th {\n",
       "        text-align: right;\n",
       "    }\n",
       "</style>\n",
       "<table border=\"1\" class=\"dataframe\">\n",
       "  <thead>\n",
       "    <tr style=\"text-align: right;\">\n",
       "      <th></th>\n",
       "      <th>quarter</th>\n",
       "      <th>number_of_strikes</th>\n",
       "      <th>number_of_strikes_formatted</th>\n",
       "    </tr>\n",
       "  </thead>\n",
       "  <tbody>\n",
       "    <tr>\n",
       "      <th>0</th>\n",
       "      <td>2016-Q1</td>\n",
       "      <td>2683798</td>\n",
       "      <td>2.7M</td>\n",
       "    </tr>\n",
       "    <tr>\n",
       "      <th>1</th>\n",
       "      <td>2016-Q2</td>\n",
       "      <td>15084857</td>\n",
       "      <td>15.1M</td>\n",
       "    </tr>\n",
       "    <tr>\n",
       "      <th>2</th>\n",
       "      <td>2016-Q3</td>\n",
       "      <td>21843820</td>\n",
       "      <td>21.8M</td>\n",
       "    </tr>\n",
       "    <tr>\n",
       "      <th>3</th>\n",
       "      <td>2016-Q4</td>\n",
       "      <td>1969754</td>\n",
       "      <td>2.0M</td>\n",
       "    </tr>\n",
       "    <tr>\n",
       "      <th>4</th>\n",
       "      <td>2017-Q1</td>\n",
       "      <td>2444279</td>\n",
       "      <td>2.4M</td>\n",
       "    </tr>\n",
       "  </tbody>\n",
       "</table>\n",
       "</div>"
      ],
      "text/plain": [
       "   quarter  number_of_strikes number_of_strikes_formatted\n",
       "0  2016-Q1            2683798                        2.7M\n",
       "1  2016-Q2           15084857                       15.1M\n",
       "2  2016-Q3           21843820                       21.8M\n",
       "3  2016-Q4            1969754                        2.0M\n",
       "4  2017-Q1            2444279                        2.4M"
      ]
     },
     "execution_count": 46,
     "metadata": {},
     "output_type": "execute_result"
    }
   ],
   "source": [
    "# Groupping 2016-2018 data by quarter and sum.\n",
    "df_by_quarter = df.groupby(['quarter']).sum(numeric_only=True).reset_index()\n",
    "\n",
    "# Formatting as text, in millions.\n",
    "df_by_quarter['number_of_strikes_formatted'] = df_by_quarter['number_of_strikes'].div(1000000).round(1).astype(str) + 'M'\n",
    "\n",
    "df_by_quarter.head()"
   ]
  },
  {
   "cell_type": "markdown",
   "metadata": {},
   "source": [
    "### 3.9. Adding labels"
   ]
  },
  {
   "cell_type": "markdown",
   "metadata": {
    "id": "B1rrBgeAFJF8"
   },
   "source": [
    "Before I start plotting, I will write a function that will help label each bar in the plot with its corresponding number_of_strikes_formatted text. The function uses `plt.text()`, which is a pyplot function whose positional arguments are `x`, `y`, and `s`. `x` represents the x-axis coordinates, `y` represents the y-axis coordinates, and `s` represents the text that we want to appear at these coordinates. \n",
    "\n",
    "**Reference:** [pyplot documentation](https://matplotlib.org/stable/api/_as_gen/matplotlib.pyplot.text.html)."
   ]
  },
  {
   "cell_type": "code",
   "execution_count": 47,
   "metadata": {
    "id": "zm3CnH9sFJF8",
    "tags": []
   },
   "outputs": [],
   "source": [
    "def addlabels(x, y, labels):\n",
    "    '''\n",
    "    Iterates over data and plots text labels above each bar of bar graph.\n",
    "    '''\n",
    "    for i in range(len(x)):\n",
    "        plt.text(i, y[i], labels[i], ha = 'center', va = 'bottom')"
   ]
  },
  {
   "cell_type": "markdown",
   "metadata": {},
   "source": [
    "### 3.10. Plotting the bar graph"
   ]
  },
  {
   "cell_type": "code",
   "execution_count": 48,
   "metadata": {
    "colab": {
     "base_uri": "https://localhost:8080/",
     "height": 350
    },
    "id": "PEnfe0iCFJF-",
    "outputId": "9d96ed7c-fe51-40a1-f0e5-4971d4188458",
    "tags": []
   },
   "outputs": [
    {
     "data": {
      "image/png": "[encoded data removed]",
      "text/plain": [
       "<Figure size 1500x500 with 1 Axes>"
      ]
     },
     "metadata": {},
     "output_type": "display_data"
    }
   ],
   "source": [
    "plt.figure(figsize = (15, 5))\n",
    "plt.bar(x = df_by_quarter['quarter'], height = df_by_quarter['number_of_strikes'])\n",
    "addlabels(df_by_quarter['quarter'], df_by_quarter['number_of_strikes'], df_by_quarter['number_of_strikes_formatted'])\n",
    "plt.plot()\n",
    "plt.xlabel('Quarter')\n",
    "plt.ylabel('Number of lightning strikes')\n",
    "plt.title('Number of lightning strikes per quarter (2016-2018)')\n",
    "plt.show()"
   ]
  },
  {
   "cell_type": "markdown",
   "metadata": {},
   "source": [
    "### 3.11. Creating a grouped bar chart"
   ]
  },
  {
   "cell_type": "markdown",
   "metadata": {
    "id": "-oPhwEBUUJVm",
    "outputId": "deeef78d-718f-47cb-a45b-74d1de19f43f"
   },
   "source": [
    "Now, I will create a grouped bar chart to better compare year-over-year changes each quarter. I can do this by creating two new columns that break out the quarter and year from the `quarter` column. I will use the `quarter` column and take the last two characters to get `quarter_number`, and take the first four characters to get `year`."
   ]
  },
  {
   "cell_type": "code",
   "execution_count": 49,
   "metadata": {
    "id": "M_jVUZIbFJF_",
    "tags": []
   },
   "outputs": [
    {
     "data": {
      "text/html": [
       "<div>\n",
       "<style scoped>\n",
       "    .dataframe tbody tr th:only-of-type {\n",
       "        vertical-align: middle;\n",
       "    }\n",
       "\n",
       "    .dataframe tbody tr th {\n",
       "        vertical-align: top;\n",
       "    }\n",
       "\n",
       "    .dataframe thead th {\n",
       "        text-align: right;\n",
       "    }\n",
       "</style>\n",
       "<table border=\"1\" class=\"dataframe\">\n",
       "  <thead>\n",
       "    <tr style=\"text-align: right;\">\n",
       "      <th></th>\n",
       "      <th>quarter</th>\n",
       "      <th>number_of_strikes</th>\n",
       "      <th>number_of_strikes_formatted</th>\n",
       "      <th>quarter_number</th>\n",
       "      <th>year</th>\n",
       "    </tr>\n",
       "  </thead>\n",
       "  <tbody>\n",
       "    <tr>\n",
       "      <th>0</th>\n",
       "      <td>2016-Q1</td>\n",
       "      <td>2683798</td>\n",
       "      <td>2.7M</td>\n",
       "      <td>Q1</td>\n",
       "      <td>2016</td>\n",
       "    </tr>\n",
       "    <tr>\n",
       "      <th>1</th>\n",
       "      <td>2016-Q2</td>\n",
       "      <td>15084857</td>\n",
       "      <td>15.1M</td>\n",
       "      <td>Q2</td>\n",
       "      <td>2016</td>\n",
       "    </tr>\n",
       "    <tr>\n",
       "      <th>2</th>\n",
       "      <td>2016-Q3</td>\n",
       "      <td>21843820</td>\n",
       "      <td>21.8M</td>\n",
       "      <td>Q3</td>\n",
       "      <td>2016</td>\n",
       "    </tr>\n",
       "    <tr>\n",
       "      <th>3</th>\n",
       "      <td>2016-Q4</td>\n",
       "      <td>1969754</td>\n",
       "      <td>2.0M</td>\n",
       "      <td>Q4</td>\n",
       "      <td>2016</td>\n",
       "    </tr>\n",
       "    <tr>\n",
       "      <th>4</th>\n",
       "      <td>2017-Q1</td>\n",
       "      <td>2444279</td>\n",
       "      <td>2.4M</td>\n",
       "      <td>Q1</td>\n",
       "      <td>2017</td>\n",
       "    </tr>\n",
       "  </tbody>\n",
       "</table>\n",
       "</div>"
      ],
      "text/plain": [
       "   quarter  number_of_strikes number_of_strikes_formatted quarter_number  year\n",
       "0  2016-Q1            2683798                        2.7M             Q1  2016\n",
       "1  2016-Q2           15084857                       15.1M             Q2  2016\n",
       "2  2016-Q3           21843820                       21.8M             Q3  2016\n",
       "3  2016-Q4            1969754                        2.0M             Q4  2016\n",
       "4  2017-Q1            2444279                        2.4M             Q1  2017"
      ]
     },
     "execution_count": 49,
     "metadata": {},
     "output_type": "execute_result"
    }
   ],
   "source": [
    "# Creating two new columns.\n",
    "df_by_quarter['quarter_number'] = df_by_quarter['quarter'].str[-2:]\n",
    "df_by_quarter['year'] = df_by_quarter['quarter'].str[:4]\n",
    "df_by_quarter.head()"
   ]
  },
  {
   "cell_type": "markdown",
   "metadata": {},
   "source": [
    "### 3.12. Filling in the chart parameters"
   ]
  },
  {
   "cell_type": "code",
   "execution_count": 50,
   "metadata": {
    "colab": {
     "base_uri": "https://localhost:8080/",
     "height": 350
    },
    "id": "EVL75ZRpFJF_",
    "outputId": "deeef78d-718f-47cb-a45b-74d1de19f43f",
    "scrolled": true,
    "tags": []
   },
   "outputs": [
    {
     "data": {
      "image/png": "[encoded data removed]",
      "text/plain": [
       "<Figure size 1500x500 with 1 Axes>"
      ]
     },
     "metadata": {},
     "output_type": "display_data"
    }
   ],
   "source": [
    "plt.figure(figsize = (15, 5))\n",
    "p = sns.barplot(\n",
    "    data = df_by_quarter,\n",
    "    x = 'quarter_number',\n",
    "    y = 'number_of_strikes',\n",
    "    hue = 'year')\n",
    "for b in p.patches:\n",
    "    p.annotate(str(round(b.get_height()/1000000, 1))+'M', \n",
    "                   (b.get_x() + b.get_width() / 2., b.get_height() + 1.2e6), \n",
    "                   ha = 'center', va = 'bottom', \n",
    "                   xytext = (0, -12), \n",
    "                   textcoords = 'offset points')\n",
    "plt.xlabel(\"Quarter\")\n",
    "plt.ylabel(\"Number of lightning strikes\")\n",
    "plt.title(\"Number of lightning strikes per quarter (2016-2018)\")\n",
    "plt.show()"
   ]
  },
  {
   "cell_type": "markdown",
   "metadata": {
    "id": "Ov5UIve3_Ii7"
   },
   "source": [
    "## 3.13. Label Encoding"
   ]
  },
  {
   "cell_type": "markdown",
   "metadata": {},
   "source": [
    "## Objective\n",
    "\n",
    "We will be examining monthly lightning strike data collected by the National Oceanic and Atmospheric Association (NOAA) for 2016&ndash;2018. The dataset includes three columns:  \n",
    "\n",
    "|date|number_of_strikes|center_point_geom|\n",
    "|---|---|---|  \n",
    "\n",
    "The objective is to assign the monthly number of strikes to the following categories: mild, scattered, heavy, or severe. Then we will create a heatmap of the three years so we can get a high-level understanding of monthly lightning severity from a simple diagram.   "
   ]
  },
  {
   "cell_type": "markdown",
   "metadata": {
    "id": "n1HlVZ8YAbjK",
    "outputId": "7d3741c1-3469-48fa-bffd-866e8e19b1c0"
   },
   "source": [
    "I'll encode the months as categorical information. This allows me to specifically designate them as categories that adhere to a specific order, which is helpful when plotting them later. I'll also create a new `year` column. Then I'll group the data by year and month, sum the remaining columns, and assign the results to a new dataframe."
   ]
  },
  {
   "cell_type": "code",
   "execution_count": 89,
   "metadata": {
    "tags": []
   },
   "outputs": [
    {
     "data": {
      "text/html": [
       "<div>\n",
       "<style scoped>\n",
       "    .dataframe tbody tr th:only-of-type {\n",
       "        vertical-align: middle;\n",
       "    }\n",
       "\n",
       "    .dataframe tbody tr th {\n",
       "        vertical-align: top;\n",
       "    }\n",
       "\n",
       "    .dataframe thead th {\n",
       "        text-align: right;\n",
       "    }\n",
       "</style>\n",
       "<table border=\"1\" class=\"dataframe\">\n",
       "  <thead>\n",
       "    <tr style=\"text-align: right;\">\n",
       "      <th></th>\n",
       "      <th>date</th>\n",
       "      <th>number_of_strikes</th>\n",
       "      <th>center_point_geom</th>\n",
       "    </tr>\n",
       "  </thead>\n",
       "  <tbody>\n",
       "    <tr>\n",
       "      <th>0</th>\n",
       "      <td>2016-08-05</td>\n",
       "      <td>16</td>\n",
       "      <td>POINT(-101.5 24.7)</td>\n",
       "    </tr>\n",
       "    <tr>\n",
       "      <th>1</th>\n",
       "      <td>2016-08-05</td>\n",
       "      <td>16</td>\n",
       "      <td>POINT(-85 34.3)</td>\n",
       "    </tr>\n",
       "    <tr>\n",
       "      <th>2</th>\n",
       "      <td>2016-08-05</td>\n",
       "      <td>16</td>\n",
       "      <td>POINT(-89 41.4)</td>\n",
       "    </tr>\n",
       "    <tr>\n",
       "      <th>3</th>\n",
       "      <td>2016-08-05</td>\n",
       "      <td>16</td>\n",
       "      <td>POINT(-89.8 30.7)</td>\n",
       "    </tr>\n",
       "    <tr>\n",
       "      <th>4</th>\n",
       "      <td>2016-08-05</td>\n",
       "      <td>16</td>\n",
       "      <td>POINT(-86.2 37.9)</td>\n",
       "    </tr>\n",
       "  </tbody>\n",
       "</table>\n",
       "</div>"
      ],
      "text/plain": [
       "        date  number_of_strikes   center_point_geom\n",
       "0 2016-08-05                 16  POINT(-101.5 24.7)\n",
       "1 2016-08-05                 16     POINT(-85 34.3)\n",
       "2 2016-08-05                 16     POINT(-89 41.4)\n",
       "3 2016-08-05                 16   POINT(-89.8 30.7)\n",
       "4 2016-08-05                 16   POINT(-86.2 37.9)"
      ]
     },
     "execution_count": 89,
     "metadata": {},
     "output_type": "execute_result"
    }
   ],
   "source": [
    "# The dataset to be used in this part of the analysis is the merged one I created in the beginning of the \n",
    "# notebook my merging the data for 2016-2017 with the data for 2018\n",
    "df = union_df\n",
    "df.head()"
   ]
  },
  {
   "cell_type": "code",
   "execution_count": 90,
   "metadata": {
    "tags": []
   },
   "outputs": [],
   "source": [
    "# Convert `date` column to datetime\n",
    "df['date'] = pd.to_datetime(df['date'])\n",
    "\n",
    "# Create new `month` column\n",
    "df['month'] = df['date'].dt.month_name().str.slice(stop=3)"
   ]
  },
  {
   "cell_type": "code",
   "execution_count": 91,
   "metadata": {
    "colab": {
     "base_uri": "https://localhost:8080/",
     "height": 206
    },
    "id": "35JhGi3ZAbjK",
    "outputId": "7d3741c1-3469-48fa-bffd-866e8e19b1c0",
    "tags": []
   },
   "outputs": [
    {
     "data": {
      "text/html": [
       "<div>\n",
       "<style scoped>\n",
       "    .dataframe tbody tr th:only-of-type {\n",
       "        vertical-align: middle;\n",
       "    }\n",
       "\n",
       "    .dataframe tbody tr th {\n",
       "        vertical-align: top;\n",
       "    }\n",
       "\n",
       "    .dataframe thead th {\n",
       "        text-align: right;\n",
       "    }\n",
       "</style>\n",
       "<table border=\"1\" class=\"dataframe\">\n",
       "  <thead>\n",
       "    <tr style=\"text-align: right;\">\n",
       "      <th></th>\n",
       "      <th>year</th>\n",
       "      <th>month</th>\n",
       "      <th>number_of_strikes</th>\n",
       "    </tr>\n",
       "  </thead>\n",
       "  <tbody>\n",
       "    <tr>\n",
       "      <th>0</th>\n",
       "      <td>2016</td>\n",
       "      <td>Jan</td>\n",
       "      <td>313595</td>\n",
       "    </tr>\n",
       "    <tr>\n",
       "      <th>1</th>\n",
       "      <td>2016</td>\n",
       "      <td>Feb</td>\n",
       "      <td>312676</td>\n",
       "    </tr>\n",
       "    <tr>\n",
       "      <th>2</th>\n",
       "      <td>2016</td>\n",
       "      <td>Mar</td>\n",
       "      <td>2057527</td>\n",
       "    </tr>\n",
       "    <tr>\n",
       "      <th>3</th>\n",
       "      <td>2016</td>\n",
       "      <td>Apr</td>\n",
       "      <td>2636427</td>\n",
       "    </tr>\n",
       "    <tr>\n",
       "      <th>4</th>\n",
       "      <td>2016</td>\n",
       "      <td>May</td>\n",
       "      <td>5800500</td>\n",
       "    </tr>\n",
       "  </tbody>\n",
       "</table>\n",
       "</div>"
      ],
      "text/plain": [
       "   year month  number_of_strikes\n",
       "0  2016   Jan             313595\n",
       "1  2016   Feb             312676\n",
       "2  2016   Mar            2057527\n",
       "3  2016   Apr            2636427\n",
       "4  2016   May            5800500"
      ]
     },
     "execution_count": 91,
     "metadata": {},
     "output_type": "execute_result"
    }
   ],
   "source": [
    "# Create categorical designations\n",
    "months = ['Jan', 'Feb', 'Mar', 'Apr', 'May', 'Jun', 'Jul', 'Aug', 'Sep', 'Oct', 'Nov', 'Dec']\n",
    "\n",
    "# Encode `month` column as categoricals \n",
    "df['month'] = pd.Categorical(df['month'], categories=months, ordered=True)\n",
    "\n",
    "# Create `year` column by extracting the year info from the datetime object\n",
    "df['year'] = df['date'].dt.strftime('%Y')\n",
    "\n",
    "# Create a new df of month, year, total strikes\n",
    "df_by_month = df.groupby(['year', 'month']).sum(numeric_only=True).reset_index()\n",
    "df_by_month.head()"
   ]
  },
  {
   "cell_type": "markdown",
   "metadata": {
    "id": "P3sFkl-6shOn",
    "outputId": "f11949b8-f2a2-4ec2-ffa0-a3f99a79c4e5"
   },
   "source": [
    "Now I'll create a new column called `strike_level` that contains a categorical variable representing the lightning strikes for each month as mild, scattered, heavy, or severe. I'll use the `pd.qcut` pandas function for this. I just input the column to be categorized, the number of quantiles to sort the data into, and how we want to name each quantile. References: https://pandas.pydata.org/docs/reference/api/pandas.qcut.html."
   ]
  },
  {
   "cell_type": "code",
   "execution_count": 92,
   "metadata": {
    "colab": {
     "base_uri": "https://localhost:8080/",
     "height": 206
    },
    "id": "bTVvdgaqAbjM",
    "outputId": "f11949b8-f2a2-4ec2-ffa0-a3f99a79c4e5",
    "tags": []
   },
   "outputs": [
    {
     "data": {
      "text/html": [
       "<div>\n",
       "<style scoped>\n",
       "    .dataframe tbody tr th:only-of-type {\n",
       "        vertical-align: middle;\n",
       "    }\n",
       "\n",
       "    .dataframe tbody tr th {\n",
       "        vertical-align: top;\n",
       "    }\n",
       "\n",
       "    .dataframe thead th {\n",
       "        text-align: right;\n",
       "    }\n",
       "</style>\n",
       "<table border=\"1\" class=\"dataframe\">\n",
       "  <thead>\n",
       "    <tr style=\"text-align: right;\">\n",
       "      <th></th>\n",
       "      <th>year</th>\n",
       "      <th>month</th>\n",
       "      <th>number_of_strikes</th>\n",
       "      <th>strike_level</th>\n",
       "    </tr>\n",
       "  </thead>\n",
       "  <tbody>\n",
       "    <tr>\n",
       "      <th>0</th>\n",
       "      <td>2016</td>\n",
       "      <td>Jan</td>\n",
       "      <td>313595</td>\n",
       "      <td>Mild</td>\n",
       "    </tr>\n",
       "    <tr>\n",
       "      <th>1</th>\n",
       "      <td>2016</td>\n",
       "      <td>Feb</td>\n",
       "      <td>312676</td>\n",
       "      <td>Mild</td>\n",
       "    </tr>\n",
       "    <tr>\n",
       "      <th>2</th>\n",
       "      <td>2016</td>\n",
       "      <td>Mar</td>\n",
       "      <td>2057527</td>\n",
       "      <td>Scattered</td>\n",
       "    </tr>\n",
       "    <tr>\n",
       "      <th>3</th>\n",
       "      <td>2016</td>\n",
       "      <td>Apr</td>\n",
       "      <td>2636427</td>\n",
       "      <td>Heavy</td>\n",
       "    </tr>\n",
       "    <tr>\n",
       "      <th>4</th>\n",
       "      <td>2016</td>\n",
       "      <td>May</td>\n",
       "      <td>5800500</td>\n",
       "      <td>Heavy</td>\n",
       "    </tr>\n",
       "  </tbody>\n",
       "</table>\n",
       "</div>"
      ],
      "text/plain": [
       "   year month  number_of_strikes strike_level\n",
       "0  2016   Jan             313595         Mild\n",
       "1  2016   Feb             312676         Mild\n",
       "2  2016   Mar            2057527    Scattered\n",
       "3  2016   Apr            2636427        Heavy\n",
       "4  2016   May            5800500        Heavy"
      ]
     },
     "execution_count": 92,
     "metadata": {},
     "output_type": "execute_result"
    }
   ],
   "source": [
    "# Create a new column that categorizes number_of_strikes into 1 of 4 categories\n",
    "df_by_month['strike_level'] = pd.qcut(\n",
    "    df_by_month['number_of_strikes'],\n",
    "    4,\n",
    "    labels = ['Mild', 'Scattered', 'Heavy', 'Severe'])\n",
    "df_by_month.head()"
   ]
  },
  {
   "cell_type": "markdown",
   "metadata": {
    "id": "jm_vfDmp_-AW"
   },
   "source": [
    "#### Encode `strike_level` into numerical values"
   ]
  },
  {
   "cell_type": "markdown",
   "metadata": {
    "id": "n1fVkW__4GME",
    "outputId": "cbff77b9-289d-4d2d-9e5a-f6b6ebec36ee"
   },
   "source": [
    "Now that I have a categorical `strike_level` column, I can extract a numerical code from it using `.cat.codes` and assign this number to a new column. "
   ]
  },
  {
   "cell_type": "code",
   "execution_count": 93,
   "metadata": {
    "colab": {
     "base_uri": "https://localhost:8080/",
     "height": 206
    },
    "id": "HLDyyrxlAbjN",
    "outputId": "cbff77b9-289d-4d2d-9e5a-f6b6ebec36ee",
    "tags": []
   },
   "outputs": [
    {
     "data": {
      "text/html": [
       "<div>\n",
       "<style scoped>\n",
       "    .dataframe tbody tr th:only-of-type {\n",
       "        vertical-align: middle;\n",
       "    }\n",
       "\n",
       "    .dataframe tbody tr th {\n",
       "        vertical-align: top;\n",
       "    }\n",
       "\n",
       "    .dataframe thead th {\n",
       "        text-align: right;\n",
       "    }\n",
       "</style>\n",
       "<table border=\"1\" class=\"dataframe\">\n",
       "  <thead>\n",
       "    <tr style=\"text-align: right;\">\n",
       "      <th></th>\n",
       "      <th>year</th>\n",
       "      <th>month</th>\n",
       "      <th>number_of_strikes</th>\n",
       "      <th>strike_level</th>\n",
       "      <th>strike_level_code</th>\n",
       "    </tr>\n",
       "  </thead>\n",
       "  <tbody>\n",
       "    <tr>\n",
       "      <th>0</th>\n",
       "      <td>2016</td>\n",
       "      <td>Jan</td>\n",
       "      <td>313595</td>\n",
       "      <td>Mild</td>\n",
       "      <td>0</td>\n",
       "    </tr>\n",
       "    <tr>\n",
       "      <th>1</th>\n",
       "      <td>2016</td>\n",
       "      <td>Feb</td>\n",
       "      <td>312676</td>\n",
       "      <td>Mild</td>\n",
       "      <td>0</td>\n",
       "    </tr>\n",
       "    <tr>\n",
       "      <th>2</th>\n",
       "      <td>2016</td>\n",
       "      <td>Mar</td>\n",
       "      <td>2057527</td>\n",
       "      <td>Scattered</td>\n",
       "      <td>1</td>\n",
       "    </tr>\n",
       "    <tr>\n",
       "      <th>3</th>\n",
       "      <td>2016</td>\n",
       "      <td>Apr</td>\n",
       "      <td>2636427</td>\n",
       "      <td>Heavy</td>\n",
       "      <td>2</td>\n",
       "    </tr>\n",
       "    <tr>\n",
       "      <th>4</th>\n",
       "      <td>2016</td>\n",
       "      <td>May</td>\n",
       "      <td>5800500</td>\n",
       "      <td>Heavy</td>\n",
       "      <td>2</td>\n",
       "    </tr>\n",
       "  </tbody>\n",
       "</table>\n",
       "</div>"
      ],
      "text/plain": [
       "   year month  number_of_strikes strike_level  strike_level_code\n",
       "0  2016   Jan             313595         Mild                  0\n",
       "1  2016   Feb             312676         Mild                  0\n",
       "2  2016   Mar            2057527    Scattered                  1\n",
       "3  2016   Apr            2636427        Heavy                  2\n",
       "4  2016   May            5800500        Heavy                  2"
      ]
     },
     "execution_count": 93,
     "metadata": {},
     "output_type": "execute_result"
    }
   ],
   "source": [
    "# Create new column representing numerical value of strike level\n",
    "df_by_month['strike_level_code'] = df_by_month['strike_level'].cat.codes\n",
    "df_by_month.head()"
   ]
  },
  {
   "cell_type": "markdown",
   "metadata": {
    "id": "QdwNSo07_O3b",
    "outputId": "d199449e-e3f4-46d0-8c4f-f6f49163ef7f"
   },
   "source": [
    "I can also create binary \"dummy\" variables from the `strike_level` column. This is a useful tool if I'd like to pass the categorical variable into a model. To do this, I could use the function `pd.get_dummies()`. Obs: the following step is just to demonstrate the functionality of `pd.get_dummies()` (simply calling the function as I will do below will not convert the data unless I reassigned the result back to a dataframe). \n",
    "\n",
    "`pd.get_dummies(df['column'])` 🠚 **df unchanged**  \n",
    "`df = pd.get_dummies(df['column'])` 🠚 **df changed**"
   ]
  },
  {
   "cell_type": "code",
   "execution_count": 94,
   "metadata": {
    "colab": {
     "base_uri": "https://localhost:8080/",
     "height": 1000
    },
    "id": "46XekGd7AbjO",
    "outputId": "d199449e-e3f4-46d0-8c4f-f6f49163ef7f",
    "tags": []
   },
   "outputs": [
    {
     "data": {
      "text/html": [
       "<div>\n",
       "<style scoped>\n",
       "    .dataframe tbody tr th:only-of-type {\n",
       "        vertical-align: middle;\n",
       "    }\n",
       "\n",
       "    .dataframe tbody tr th {\n",
       "        vertical-align: top;\n",
       "    }\n",
       "\n",
       "    .dataframe thead th {\n",
       "        text-align: right;\n",
       "    }\n",
       "</style>\n",
       "<table border=\"1\" class=\"dataframe\">\n",
       "  <thead>\n",
       "    <tr style=\"text-align: right;\">\n",
       "      <th></th>\n",
       "      <th>Mild</th>\n",
       "      <th>Scattered</th>\n",
       "      <th>Heavy</th>\n",
       "      <th>Severe</th>\n",
       "    </tr>\n",
       "  </thead>\n",
       "  <tbody>\n",
       "    <tr>\n",
       "      <th>0</th>\n",
       "      <td>True</td>\n",
       "      <td>False</td>\n",
       "      <td>False</td>\n",
       "      <td>False</td>\n",
       "    </tr>\n",
       "    <tr>\n",
       "      <th>1</th>\n",
       "      <td>True</td>\n",
       "      <td>False</td>\n",
       "      <td>False</td>\n",
       "      <td>False</td>\n",
       "    </tr>\n",
       "    <tr>\n",
       "      <th>2</th>\n",
       "      <td>False</td>\n",
       "      <td>True</td>\n",
       "      <td>False</td>\n",
       "      <td>False</td>\n",
       "    </tr>\n",
       "    <tr>\n",
       "      <th>3</th>\n",
       "      <td>False</td>\n",
       "      <td>False</td>\n",
       "      <td>True</td>\n",
       "      <td>False</td>\n",
       "    </tr>\n",
       "    <tr>\n",
       "      <th>4</th>\n",
       "      <td>False</td>\n",
       "      <td>False</td>\n",
       "      <td>True</td>\n",
       "      <td>False</td>\n",
       "    </tr>\n",
       "    <tr>\n",
       "      <th>5</th>\n",
       "      <td>False</td>\n",
       "      <td>False</td>\n",
       "      <td>False</td>\n",
       "      <td>True</td>\n",
       "    </tr>\n",
       "    <tr>\n",
       "      <th>6</th>\n",
       "      <td>False</td>\n",
       "      <td>False</td>\n",
       "      <td>False</td>\n",
       "      <td>True</td>\n",
       "    </tr>\n",
       "    <tr>\n",
       "      <th>7</th>\n",
       "      <td>False</td>\n",
       "      <td>False</td>\n",
       "      <td>False</td>\n",
       "      <td>True</td>\n",
       "    </tr>\n",
       "    <tr>\n",
       "      <th>8</th>\n",
       "      <td>False</td>\n",
       "      <td>False</td>\n",
       "      <td>True</td>\n",
       "      <td>False</td>\n",
       "    </tr>\n",
       "    <tr>\n",
       "      <th>9</th>\n",
       "      <td>False</td>\n",
       "      <td>True</td>\n",
       "      <td>False</td>\n",
       "      <td>False</td>\n",
       "    </tr>\n",
       "    <tr>\n",
       "      <th>10</th>\n",
       "      <td>True</td>\n",
       "      <td>False</td>\n",
       "      <td>False</td>\n",
       "      <td>False</td>\n",
       "    </tr>\n",
       "    <tr>\n",
       "      <th>11</th>\n",
       "      <td>True</td>\n",
       "      <td>False</td>\n",
       "      <td>False</td>\n",
       "      <td>False</td>\n",
       "    </tr>\n",
       "    <tr>\n",
       "      <th>12</th>\n",
       "      <td>True</td>\n",
       "      <td>False</td>\n",
       "      <td>False</td>\n",
       "      <td>False</td>\n",
       "    </tr>\n",
       "    <tr>\n",
       "      <th>13</th>\n",
       "      <td>True</td>\n",
       "      <td>False</td>\n",
       "      <td>False</td>\n",
       "      <td>False</td>\n",
       "    </tr>\n",
       "    <tr>\n",
       "      <th>14</th>\n",
       "      <td>False</td>\n",
       "      <td>True</td>\n",
       "      <td>False</td>\n",
       "      <td>False</td>\n",
       "    </tr>\n",
       "    <tr>\n",
       "      <th>15</th>\n",
       "      <td>False</td>\n",
       "      <td>False</td>\n",
       "      <td>True</td>\n",
       "      <td>False</td>\n",
       "    </tr>\n",
       "    <tr>\n",
       "      <th>16</th>\n",
       "      <td>False</td>\n",
       "      <td>False</td>\n",
       "      <td>True</td>\n",
       "      <td>False</td>\n",
       "    </tr>\n",
       "    <tr>\n",
       "      <th>17</th>\n",
       "      <td>False</td>\n",
       "      <td>False</td>\n",
       "      <td>True</td>\n",
       "      <td>False</td>\n",
       "    </tr>\n",
       "    <tr>\n",
       "      <th>18</th>\n",
       "      <td>False</td>\n",
       "      <td>False</td>\n",
       "      <td>False</td>\n",
       "      <td>True</td>\n",
       "    </tr>\n",
       "    <tr>\n",
       "      <th>19</th>\n",
       "      <td>False</td>\n",
       "      <td>False</td>\n",
       "      <td>True</td>\n",
       "      <td>False</td>\n",
       "    </tr>\n",
       "    <tr>\n",
       "      <th>20</th>\n",
       "      <td>False</td>\n",
       "      <td>True</td>\n",
       "      <td>False</td>\n",
       "      <td>False</td>\n",
       "    </tr>\n",
       "    <tr>\n",
       "      <th>21</th>\n",
       "      <td>False</td>\n",
       "      <td>True</td>\n",
       "      <td>False</td>\n",
       "      <td>False</td>\n",
       "    </tr>\n",
       "    <tr>\n",
       "      <th>22</th>\n",
       "      <td>True</td>\n",
       "      <td>False</td>\n",
       "      <td>False</td>\n",
       "      <td>False</td>\n",
       "    </tr>\n",
       "    <tr>\n",
       "      <th>23</th>\n",
       "      <td>True</td>\n",
       "      <td>False</td>\n",
       "      <td>False</td>\n",
       "      <td>False</td>\n",
       "    </tr>\n",
       "    <tr>\n",
       "      <th>24</th>\n",
       "      <td>False</td>\n",
       "      <td>True</td>\n",
       "      <td>False</td>\n",
       "      <td>False</td>\n",
       "    </tr>\n",
       "    <tr>\n",
       "      <th>25</th>\n",
       "      <td>False</td>\n",
       "      <td>False</td>\n",
       "      <td>True</td>\n",
       "      <td>False</td>\n",
       "    </tr>\n",
       "    <tr>\n",
       "      <th>26</th>\n",
       "      <td>False</td>\n",
       "      <td>True</td>\n",
       "      <td>False</td>\n",
       "      <td>False</td>\n",
       "    </tr>\n",
       "    <tr>\n",
       "      <th>27</th>\n",
       "      <td>False</td>\n",
       "      <td>False</td>\n",
       "      <td>True</td>\n",
       "      <td>False</td>\n",
       "    </tr>\n",
       "    <tr>\n",
       "      <th>28</th>\n",
       "      <td>False</td>\n",
       "      <td>False</td>\n",
       "      <td>False</td>\n",
       "      <td>True</td>\n",
       "    </tr>\n",
       "    <tr>\n",
       "      <th>29</th>\n",
       "      <td>False</td>\n",
       "      <td>False</td>\n",
       "      <td>False</td>\n",
       "      <td>True</td>\n",
       "    </tr>\n",
       "    <tr>\n",
       "      <th>30</th>\n",
       "      <td>False</td>\n",
       "      <td>False</td>\n",
       "      <td>False</td>\n",
       "      <td>True</td>\n",
       "    </tr>\n",
       "    <tr>\n",
       "      <th>31</th>\n",
       "      <td>False</td>\n",
       "      <td>False</td>\n",
       "      <td>False</td>\n",
       "      <td>True</td>\n",
       "    </tr>\n",
       "    <tr>\n",
       "      <th>32</th>\n",
       "      <td>False</td>\n",
       "      <td>False</td>\n",
       "      <td>False</td>\n",
       "      <td>True</td>\n",
       "    </tr>\n",
       "    <tr>\n",
       "      <th>33</th>\n",
       "      <td>False</td>\n",
       "      <td>True</td>\n",
       "      <td>False</td>\n",
       "      <td>False</td>\n",
       "    </tr>\n",
       "    <tr>\n",
       "      <th>34</th>\n",
       "      <td>False</td>\n",
       "      <td>True</td>\n",
       "      <td>False</td>\n",
       "      <td>False</td>\n",
       "    </tr>\n",
       "    <tr>\n",
       "      <th>35</th>\n",
       "      <td>True</td>\n",
       "      <td>False</td>\n",
       "      <td>False</td>\n",
       "      <td>False</td>\n",
       "    </tr>\n",
       "  </tbody>\n",
       "</table>\n",
       "</div>"
      ],
      "text/plain": [
       "     Mild  Scattered  Heavy  Severe\n",
       "0    True      False  False   False\n",
       "1    True      False  False   False\n",
       "2   False       True  False   False\n",
       "3   False      False   True   False\n",
       "4   False      False   True   False\n",
       "5   False      False  False    True\n",
       "6   False      False  False    True\n",
       "7   False      False  False    True\n",
       "8   False      False   True   False\n",
       "9   False       True  False   False\n",
       "10   True      False  False   False\n",
       "11   True      False  False   False\n",
       "12   True      False  False   False\n",
       "13   True      False  False   False\n",
       "14  False       True  False   False\n",
       "15  False      False   True   False\n",
       "16  False      False   True   False\n",
       "17  False      False   True   False\n",
       "18  False      False  False    True\n",
       "19  False      False   True   False\n",
       "20  False       True  False   False\n",
       "21  False       True  False   False\n",
       "22   True      False  False   False\n",
       "23   True      False  False   False\n",
       "24  False       True  False   False\n",
       "25  False      False   True   False\n",
       "26  False       True  False   False\n",
       "27  False      False   True   False\n",
       "28  False      False  False    True\n",
       "29  False      False  False    True\n",
       "30  False      False  False    True\n",
       "31  False      False  False    True\n",
       "32  False      False  False    True\n",
       "33  False       True  False   False\n",
       "34  False       True  False   False\n",
       "35   True      False  False   False"
      ]
     },
     "execution_count": 94,
     "metadata": {},
     "output_type": "execute_result"
    }
   ],
   "source": [
    "pd.get_dummies(df_by_month['strike_level'])"
   ]
  },
  {
   "cell_type": "markdown",
   "metadata": {},
   "source": [
    "I don't need to create dummy variables for our heatmap, so I'll continue without converting the dataframe."
   ]
  },
  {
   "cell_type": "markdown",
   "metadata": {
    "id": "TZ6jf0_XAMa6"
   },
   "source": [
    "### 3.14. Creating a heatmap of number of strikes per month"
   ]
  },
  {
   "cell_type": "markdown",
   "metadata": {
    "id": "d4x-R1CKcl9o",
    "outputId": "c79dd3b1-c2cb-40e2-bf8c-1d9a83305df9"
   },
   "source": [
    "I want the heatmap to have the months on the x-axis and the years on the y-axis, and the color gradient should represent the severity (mild, scattered, heavy, severe) of lightning for each month. A simple way of preparing the data for the heatmap is to pivot it so the rows are years, columns are months, and the values are the numeric code of the lightning severity. \n",
    "\n",
    "I can do this with the `df.pivot()` method. It accepts arguments for `index`, `columns`, and `values`, which I'll specify as described. References: https://pandas.pydata.org/docs/reference/api/pandas.DataFrame.pivot.html."
   ]
  },
  {
   "cell_type": "code",
   "execution_count": 95,
   "metadata": {
    "colab": {
     "base_uri": "https://localhost:8080/",
     "height": 175
    },
    "id": "eLoG-wOiAbjP",
    "outputId": "c79dd3b1-c2cb-40e2-bf8c-1d9a83305df9",
    "tags": []
   },
   "outputs": [
    {
     "data": {
      "text/html": [
       "<div>\n",
       "<style scoped>\n",
       "    .dataframe tbody tr th:only-of-type {\n",
       "        vertical-align: middle;\n",
       "    }\n",
       "\n",
       "    .dataframe tbody tr th {\n",
       "        vertical-align: top;\n",
       "    }\n",
       "\n",
       "    .dataframe thead th {\n",
       "        text-align: right;\n",
       "    }\n",
       "</style>\n",
       "<table border=\"1\" class=\"dataframe\">\n",
       "  <thead>\n",
       "    <tr style=\"text-align: right;\">\n",
       "      <th>month</th>\n",
       "      <th>Jan</th>\n",
       "      <th>Feb</th>\n",
       "      <th>Mar</th>\n",
       "      <th>Apr</th>\n",
       "      <th>May</th>\n",
       "      <th>Jun</th>\n",
       "      <th>Jul</th>\n",
       "      <th>Aug</th>\n",
       "      <th>Sep</th>\n",
       "      <th>Oct</th>\n",
       "      <th>Nov</th>\n",
       "      <th>Dec</th>\n",
       "    </tr>\n",
       "    <tr>\n",
       "      <th>year</th>\n",
       "      <th></th>\n",
       "      <th></th>\n",
       "      <th></th>\n",
       "      <th></th>\n",
       "      <th></th>\n",
       "      <th></th>\n",
       "      <th></th>\n",
       "      <th></th>\n",
       "      <th></th>\n",
       "      <th></th>\n",
       "      <th></th>\n",
       "      <th></th>\n",
       "    </tr>\n",
       "  </thead>\n",
       "  <tbody>\n",
       "    <tr>\n",
       "      <th>2016</th>\n",
       "      <td>0</td>\n",
       "      <td>0</td>\n",
       "      <td>1</td>\n",
       "      <td>2</td>\n",
       "      <td>2</td>\n",
       "      <td>3</td>\n",
       "      <td>3</td>\n",
       "      <td>3</td>\n",
       "      <td>2</td>\n",
       "      <td>1</td>\n",
       "      <td>0</td>\n",
       "      <td>0</td>\n",
       "    </tr>\n",
       "    <tr>\n",
       "      <th>2017</th>\n",
       "      <td>0</td>\n",
       "      <td>0</td>\n",
       "      <td>1</td>\n",
       "      <td>2</td>\n",
       "      <td>2</td>\n",
       "      <td>2</td>\n",
       "      <td>3</td>\n",
       "      <td>2</td>\n",
       "      <td>1</td>\n",
       "      <td>1</td>\n",
       "      <td>0</td>\n",
       "      <td>0</td>\n",
       "    </tr>\n",
       "    <tr>\n",
       "      <th>2018</th>\n",
       "      <td>1</td>\n",
       "      <td>2</td>\n",
       "      <td>1</td>\n",
       "      <td>2</td>\n",
       "      <td>3</td>\n",
       "      <td>3</td>\n",
       "      <td>3</td>\n",
       "      <td>3</td>\n",
       "      <td>3</td>\n",
       "      <td>1</td>\n",
       "      <td>1</td>\n",
       "      <td>0</td>\n",
       "    </tr>\n",
       "  </tbody>\n",
       "</table>\n",
       "</div>"
      ],
      "text/plain": [
       "month  Jan  Feb  Mar  Apr  May  Jun  Jul  Aug  Sep  Oct  Nov  Dec\n",
       "year                                                             \n",
       "2016     0    0    1    2    2    3    3    3    2    1    0    0\n",
       "2017     0    0    1    2    2    2    3    2    1    1    0    0\n",
       "2018     1    2    1    2    3    3    3    3    3    1    1    0"
      ]
     },
     "execution_count": 95,
     "metadata": {},
     "output_type": "execute_result"
    }
   ],
   "source": [
    "# Create new df that pivots the data\n",
    "df_by_month_plot = df_by_month.pivot(index='year', columns='month', values='strike_level_code')\n",
    "df_by_month_plot.head()"
   ]
  },
  {
   "cell_type": "markdown",
   "metadata": {
    "id": "zspYZMEQ8Tpr",
    "outputId": "080430e2-7e6a-450c-d1bb-526836b17918"
   },
   "source": [
    "I'll use seaborn's `heatmap()` function to plot the heatmap."
   ]
  },
  {
   "cell_type": "code",
   "execution_count": 96,
   "metadata": {
    "colab": {
     "base_uri": "https://localhost:8080/"
    },
    "id": "ZxXGDFIlAbjP",
    "outputId": "080430e2-7e6a-450c-d1bb-526836b17918",
    "tags": []
   },
   "outputs": [
    {
     "data": {
      "image/png": "[encoded data removed]",
      "text/plain": [
       "<Figure size 640x480 with 2 Axes>"
      ]
     },
     "metadata": {},
     "output_type": "display_data"
    }
   ],
   "source": [
    "ax = sns.heatmap(df_by_month_plot, cmap = 'Blues')\n",
    "colorbar = ax.collections[0].colorbar\n",
    "colorbar.set_ticks([0, 1, 2, 3])\n",
    "colorbar.set_ticklabels(['Mild', 'Scattered', 'Heavy', 'Severe'])\n",
    "plt.show()"
   ]
  },
  {
   "cell_type": "markdown",
   "metadata": {},
   "source": [
    "The heatmap indicates that for all three years, the most lightning strikes occurred during the summer months."
   ]
  }
 ],
 "metadata": {
  "colab": {
   "collapsed_sections": [],
   "provenance": [
    {
     "file_id": "19IGrrvzEh7nvoXs9nBFIrNwEvWd_KyUa",
     "timestamp": 1662732384657
    }
   ]
  },
  "kernelspec": {
   "display_name": "Python 3 (ipykernel)",
   "language": "python",
   "name": "python3"
  },
  "language_info": {
   "codemirror_mode": {
    "name": "ipython",
    "version": 3
   },
   "file_extension": ".py",
   "mimetype": "text/x-python",
   "name": "python",
   "nbconvert_exporter": "python",
   "pygments_lexer": "ipython3",
   "version": "3.11.5"
  }
 },
 "nbformat": 4,
 "nbformat_minor": 4
}
